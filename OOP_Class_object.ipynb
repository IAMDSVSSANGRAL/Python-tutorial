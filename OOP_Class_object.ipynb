{
  "nbformat": 4,
  "nbformat_minor": 0,
  "metadata": {
    "colab": {
      "provenance": [],
      "authorship_tag": "ABX9TyOuU8uitEfR/FyJb3Lk8Rjv",
      "include_colab_link": true
    },
    "kernelspec": {
      "name": "python3",
      "display_name": "Python 3"
    },
    "language_info": {
      "name": "python"
    }
  },
  "cells": [
    {
      "cell_type": "markdown",
      "metadata": {
        "id": "view-in-github",
        "colab_type": "text"
      },
      "source": [
        "<a href=\"https://colab.research.google.com/github/IAMDSVSSANGRAL/Python-tutorial/blob/main/OOP_Class_object.ipynb\" target=\"_parent\"><img src=\"https://colab.research.google.com/assets/colab-badge.svg\" alt=\"Open In Colab\"/></a>"
      ]
    },
    {
      "cell_type": "code",
      "execution_count": 1,
      "metadata": {
        "id": "fmr83qJ_C6nk"
      },
      "outputs": [],
      "source": [
        "x = [1,2,3]"
      ]
    },
    {
      "cell_type": "code",
      "source": [
        "x.upper()"
      ],
      "metadata": {
        "colab": {
          "base_uri": "https://localhost:8080/",
          "height": 141
        },
        "id": "FrYqJX2wEALY",
        "outputId": "2b8e49eb-417d-4079-f007-a4ec028e84f9"
      },
      "execution_count": 2,
      "outputs": [
        {
          "output_type": "error",
          "ename": "AttributeError",
          "evalue": "'list' object has no attribute 'upper'",
          "traceback": [
            "\u001b[0;31m---------------------------------------------------------------------------\u001b[0m",
            "\u001b[0;31mAttributeError\u001b[0m                            Traceback (most recent call last)",
            "\u001b[0;32m/tmp/ipython-input-1145191538.py\u001b[0m in \u001b[0;36m<cell line: 0>\u001b[0;34m()\u001b[0m\n\u001b[0;32m----> 1\u001b[0;31m \u001b[0mx\u001b[0m\u001b[0;34m.\u001b[0m\u001b[0mupper\u001b[0m\u001b[0;34m(\u001b[0m\u001b[0;34m)\u001b[0m\u001b[0;34m\u001b[0m\u001b[0;34m\u001b[0m\u001b[0m\n\u001b[0m",
            "\u001b[0;31mAttributeError\u001b[0m: 'list' object has no attribute 'upper'"
          ]
        }
      ]
    },
    {
      "cell_type": "code",
      "source": [
        "# why it is showing an error ?"
      ],
      "metadata": {
        "id": "rx2VI660ECDg"
      },
      "execution_count": 3,
      "outputs": []
    },
    {
      "cell_type": "code",
      "source": [
        "s = \"hello\""
      ],
      "metadata": {
        "id": "DDFpufpUEF71"
      },
      "execution_count": 4,
      "outputs": []
    },
    {
      "cell_type": "code",
      "source": [
        "s.append(x)"
      ],
      "metadata": {
        "colab": {
          "base_uri": "https://localhost:8080/",
          "height": 141
        },
        "id": "pwSwIn01EM2N",
        "outputId": "15e50b0b-a588-4fb4-fee2-969529ce2f1d"
      },
      "execution_count": 5,
      "outputs": [
        {
          "output_type": "error",
          "ename": "AttributeError",
          "evalue": "'str' object has no attribute 'append'",
          "traceback": [
            "\u001b[0;31m---------------------------------------------------------------------------\u001b[0m",
            "\u001b[0;31mAttributeError\u001b[0m                            Traceback (most recent call last)",
            "\u001b[0;32m/tmp/ipython-input-4038967414.py\u001b[0m in \u001b[0;36m<cell line: 0>\u001b[0;34m()\u001b[0m\n\u001b[0;32m----> 1\u001b[0;31m \u001b[0ms\u001b[0m\u001b[0;34m.\u001b[0m\u001b[0mappend\u001b[0m\u001b[0;34m(\u001b[0m\u001b[0mx\u001b[0m\u001b[0;34m)\u001b[0m\u001b[0;34m\u001b[0m\u001b[0;34m\u001b[0m\u001b[0m\n\u001b[0m",
            "\u001b[0;31mAttributeError\u001b[0m: 'str' object has no attribute 'append'"
          ]
        }
      ]
    },
    {
      "cell_type": "code",
      "source": [
        "#again same error why ?"
      ],
      "metadata": {
        "id": "qfhno6fNEOnq"
      },
      "execution_count": 6,
      "outputs": []
    },
    {
      "cell_type": "code",
      "source": [
        "# problem with procedural approach- made complex code which is not easy to manupilate if we are adding new feautres and all those thing."
      ],
      "metadata": {
        "id": "QioetEFaEN6T"
      },
      "execution_count": 7,
      "outputs": []
    },
    {
      "cell_type": "code",
      "source": [
        "# the main power of oop is an programmer and create there own data types"
      ],
      "metadata": {
        "id": "2OxoU8xoFkPl"
      },
      "execution_count": 9,
      "outputs": []
    },
    {
      "cell_type": "code",
      "source": [
        "# 6 principles of oop:\n",
        "#object\n",
        "#class\n",
        "#polymorphism\n",
        "#encapsulation\n",
        "#inheritance\n",
        "#abstraction"
      ],
      "metadata": {
        "id": "-KMN7XnhF6vs"
      },
      "execution_count": 10,
      "outputs": []
    },
    {
      "cell_type": "code",
      "source": [
        "print(type(x))"
      ],
      "metadata": {
        "colab": {
          "base_uri": "https://localhost:8080/"
        },
        "id": "5LboQGOvGoU3",
        "outputId": "60dbe027-0006-452c-b12f-f923ef758114"
      },
      "execution_count": 11,
      "outputs": [
        {
          "output_type": "stream",
          "name": "stdout",
          "text": [
            "<class 'list'>\n"
          ]
        }
      ]
    },
    {
      "cell_type": "code",
      "source": [
        "# class is a blueprint"
      ],
      "metadata": {
        "id": "PK3bwhH5HayO"
      },
      "execution_count": 13,
      "outputs": []
    },
    {
      "cell_type": "code",
      "source": [
        "x.upper()"
      ],
      "metadata": {
        "colab": {
          "base_uri": "https://localhost:8080/",
          "height": 141
        },
        "id": "oRo7JaPRHDPN",
        "outputId": "32cb494f-c8e3-4b95-df51-8c9180e866bd"
      },
      "execution_count": 12,
      "outputs": [
        {
          "output_type": "error",
          "ename": "AttributeError",
          "evalue": "'list' object has no attribute 'upper'",
          "traceback": [
            "\u001b[0;31m---------------------------------------------------------------------------\u001b[0m",
            "\u001b[0;31mAttributeError\u001b[0m                            Traceback (most recent call last)",
            "\u001b[0;32m/tmp/ipython-input-1145191538.py\u001b[0m in \u001b[0;36m<cell line: 0>\u001b[0;34m()\u001b[0m\n\u001b[0;32m----> 1\u001b[0;31m \u001b[0mx\u001b[0m\u001b[0;34m.\u001b[0m\u001b[0mupper\u001b[0m\u001b[0;34m(\u001b[0m\u001b[0;34m)\u001b[0m\u001b[0;34m\u001b[0m\u001b[0;34m\u001b[0m\u001b[0m\n\u001b[0m",
            "\u001b[0;31mAttributeError\u001b[0m: 'list' object has no attribute 'upper'"
          ]
        }
      ]
    },
    {
      "cell_type": "code",
      "source": [
        "# if you made any variable out of that class , it is an object\n",
        "# object is an instance of a class"
      ],
      "metadata": {
        "id": "HpKBhNNGHdKi"
      },
      "execution_count": 18,
      "outputs": []
    },
    {
      "cell_type": "code",
      "source": [
        "#x is variable and stored the list , print the type of variable it is showing class list or class str etc why ?"
      ],
      "metadata": {
        "id": "THbsIZAbG4V9"
      },
      "execution_count": 15,
      "outputs": []
    },
    {
      "cell_type": "code",
      "source": [
        "# class - data or property and functions or behviour."
      ],
      "metadata": {
        "id": "OAHrxAzDIE8S"
      },
      "execution_count": 16,
      "outputs": []
    },
    {
      "cell_type": "code",
      "source": [
        "# syntax to create an object\n",
        "#objectname = classname()"
      ],
      "metadata": {
        "id": "VY0osNP1IOfC"
      },
      "execution_count": 19,
      "outputs": []
    },
    {
      "cell_type": "code",
      "source": [
        "x = list()\n",
        "y = str()\n",
        "z = set()"
      ],
      "metadata": {
        "id": "rBdjVAOdI49_"
      },
      "execution_count": 20,
      "outputs": []
    },
    {
      "cell_type": "code",
      "source": [
        "print(type(z))"
      ],
      "metadata": {
        "colab": {
          "base_uri": "https://localhost:8080/"
        },
        "id": "BCOvxm46I8vB",
        "outputId": "e9fbaaab-d5aa-48d2-ad55-afc359615ca1"
      },
      "execution_count": 22,
      "outputs": [
        {
          "output_type": "stream",
          "name": "stdout",
          "text": [
            "<class 'set'>\n"
          ]
        }
      ]
    },
    {
      "cell_type": "code",
      "source": [
        "class Atm: #use pascal case eg: HelloWorld\n",
        "\n",
        "    #constructor a special function -> special function -\n",
        "    def __init__(self):\n",
        "      self.pin = \"\"\n",
        "      self.balance = 0\n",
        "      print('mai to execute ho gaya')"
      ],
      "metadata": {
        "id": "VlRLYDgiI9xD"
      },
      "execution_count": 30,
      "outputs": []
    },
    {
      "cell_type": "code",
      "source": [
        "x = Atm()"
      ],
      "metadata": {
        "colab": {
          "base_uri": "https://localhost:8080/"
        },
        "id": "3agtoenqKcA5",
        "outputId": "d46c577d-d23e-4c99-a1af-e8beb4dd7384"
      },
      "execution_count": 31,
      "outputs": [
        {
          "output_type": "stream",
          "name": "stdout",
          "text": [
            "mai to execute ho gaya\n"
          ]
        }
      ]
    },
    {
      "cell_type": "code",
      "source": [
        "x.pin"
      ],
      "metadata": {
        "colab": {
          "base_uri": "https://localhost:8080/",
          "height": 36
        },
        "id": "odwqrdzaKfNh",
        "outputId": "b8fa3b90-7fd7-49ec-9064-a23b48c2d87e"
      },
      "execution_count": 32,
      "outputs": [
        {
          "output_type": "execute_result",
          "data": {
            "text/plain": [
              "''"
            ],
            "application/vnd.google.colaboratory.intrinsic+json": {
              "type": "string"
            }
          },
          "metadata": {},
          "execution_count": 32
        }
      ]
    },
    {
      "cell_type": "code",
      "source": [
        "x.balance"
      ],
      "metadata": {
        "colab": {
          "base_uri": "https://localhost:8080/"
        },
        "id": "Yge_IH16KgDd",
        "outputId": "44120995-1fac-4997-d0d7-05c5f6cad498"
      },
      "execution_count": 33,
      "outputs": [
        {
          "output_type": "execute_result",
          "data": {
            "text/plain": [
              "0"
            ]
          },
          "metadata": {},
          "execution_count": 33
        }
      ]
    },
    {
      "cell_type": "code",
      "source": [
        "print(type(x))"
      ],
      "metadata": {
        "colab": {
          "base_uri": "https://localhost:8080/"
        },
        "id": "BhKgAmskKhUf",
        "outputId": "3f5bbe86-e8fb-4b82-dc59-4365c584772a"
      },
      "execution_count": 34,
      "outputs": [
        {
          "output_type": "stream",
          "name": "stdout",
          "text": [
            "<class '__main__.Atm'>\n"
          ]
        }
      ]
    },
    {
      "cell_type": "code",
      "source": [
        "# types of classes - builtin and user defined classes"
      ],
      "metadata": {
        "id": "fb2U8mZsKuiO"
      },
      "execution_count": 29,
      "outputs": []
    },
    {
      "cell_type": "code",
      "source": [
        "class Atm():\n",
        "\n",
        "  def __init__(self):\n",
        "    self.pin = ''\n",
        "    self.balance = 0\n",
        "    self.menu()\n",
        "\n",
        "  def menu(self):\n",
        "    user_input =input(\"\"\"\n",
        "    Hi how can i help you ?\n",
        "\n",
        "    1. press 1 to create pin\n",
        "    2. press 2 to change pin\n",
        "    3. press 3 to check balance\n",
        "    4. press 4 to withdraw\n",
        "    5. anything else to exit\n",
        "    \"\"\")\n",
        "\n",
        "    if user_input == '1':\n",
        "      #create pin\n",
        "      self.create_pin()\n",
        "    elif user_input == '2':\n",
        "      self.change_pin()\n",
        "      pass\n",
        "    elif user_input == '3':\n",
        "      self.check_balance()\n",
        "      pass\n",
        "    elif user_input == '4':\n",
        "      self.withdraw()\n",
        "      pass\n",
        "    else:\n",
        "      exit()\n",
        "\n",
        "  def create_pin(self):\n",
        "    user_pin = input('enter your pin')\n",
        "    self.pin = user_pin\n",
        "\n",
        "    user_balance = int(input('enter your balance'))\n",
        "    self.balance = user_balance\n",
        "\n",
        "    print(\"pin created successfully\")\n",
        "    self.menu()\n",
        "\n",
        "\n",
        "  def change_pin(self):\n",
        "    old_pin = input('enter your existing pin')\n",
        "    if old_pin == self.pin:\n",
        "      new_pin = input(\"enter your new pin\")\n",
        "      self.pin = new_pin\n",
        "      print(\"pin change successfully\")\n",
        "      self.menu()\n",
        "\n",
        "    else :\n",
        "      print(\"incorrect pin switched to menu again\")\n",
        "      self.menu()\n",
        "\n",
        "  def check_balance(self):\n",
        "     user_pin = input(\"enter your pin\")\n",
        "     if user_pin == self.pin:\n",
        "      print('your balance is',self.balance)\n",
        "     else:\n",
        "      self.menu()\n",
        "\n",
        "  def withdraw(self):\n",
        "    user_pin = input(\"enter your pin\")\n",
        "    if user_pin == self.pin:\n",
        "      withdraw_amt= int(input('how much money you want to spend'))\n",
        "      if withdraw_amt <= self.balance:\n",
        "        self.balance = self.balance - withdraw_amt\n",
        "        self.menu()\n",
        "      else:\n",
        "        print('kuch to sharam karlo')\n",
        "        self.withdraw()\n",
        "    else:\n",
        "      print('pin galat hai bhai')\n",
        "      self.menu()"
      ],
      "metadata": {
        "id": "TOMaSoa2K---"
      },
      "execution_count": 5,
      "outputs": []
    },
    {
      "cell_type": "code",
      "source": [
        "customer_2 = Atm()"
      ],
      "metadata": {
        "colab": {
          "base_uri": "https://localhost:8080/"
        },
        "id": "OEunN_6yMfrv",
        "outputId": "a11ef44f-b65f-4f46-b282-46556547ecf4"
      },
      "execution_count": 6,
      "outputs": [
        {
          "output_type": "stream",
          "name": "stdout",
          "text": [
            "\n",
            "    Hi how can i help you ?\n",
            "\n",
            "    1. press 1 to create pin\n",
            "    2. press 2 to change pin\n",
            "    3. press 3 to check balance \n",
            "    4. press 4 to withdraw\n",
            "    5. anything else to exit\n",
            "    1\n",
            "enter your pin1234\n",
            "enter your balance10000\n",
            "pin created successfully\n",
            "\n",
            "    Hi how can i help you ?\n",
            "\n",
            "    1. press 1 to create pin\n",
            "    2. press 2 to change pin\n",
            "    3. press 3 to check balance \n",
            "    4. press 4 to withdraw\n",
            "    5. anything else to exit\n",
            "    4\n",
            "enter your pin1234\n",
            "how much money you want to spend11000\n",
            "kuch to sharam karlo\n",
            "enter your pin1234\n",
            "how much money you want to spend2000\n",
            "\n",
            "    Hi how can i help you ?\n",
            "\n",
            "    1. press 1 to create pin\n",
            "    2. press 2 to change pin\n",
            "    3. press 3 to check balance \n",
            "    4. press 4 to withdraw\n",
            "    5. anything else to exit\n",
            "    3\n",
            "enter your pin1234\n",
            "your balance is 8000\n"
          ]
        }
      ]
    },
    {
      "cell_type": "code",
      "source": [
        "\n",
        "customer_2.balance"
      ],
      "metadata": {
        "colab": {
          "base_uri": "https://localhost:8080/"
        },
        "id": "tIu_n5gXMt10",
        "outputId": "fbd42a7c-ffce-40f2-ea86-2588da794deb"
      },
      "execution_count": 7,
      "outputs": [
        {
          "output_type": "execute_result",
          "data": {
            "text/plain": [
              "8000"
            ]
          },
          "metadata": {},
          "execution_count": 7
        }
      ]
    },
    {
      "cell_type": "code",
      "source": [
        "customer_2.pin"
      ],
      "metadata": {
        "colab": {
          "base_uri": "https://localhost:8080/",
          "height": 36
        },
        "id": "_IdUoBhAN505",
        "outputId": "1f560701-71ad-41d4-f61c-87e8303969f8"
      },
      "execution_count": 8,
      "outputs": [
        {
          "output_type": "execute_result",
          "data": {
            "text/plain": [
              "'1234'"
            ],
            "application/vnd.google.colaboratory.intrinsic+json": {
              "type": "string"
            }
          },
          "metadata": {},
          "execution_count": 8
        }
      ]
    },
    {
      "cell_type": "code",
      "source": [],
      "metadata": {
        "id": "iOMhJISmN7gl"
      },
      "execution_count": null,
      "outputs": []
    }
  ]
}