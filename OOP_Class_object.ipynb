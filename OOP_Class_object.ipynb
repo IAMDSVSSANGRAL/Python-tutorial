{
  "nbformat": 4,
  "nbformat_minor": 0,
  "metadata": {
    "colab": {
      "provenance": [],
      "authorship_tag": "ABX9TyNS40N4IA2C/SaPDS2ZmdUa",
      "include_colab_link": true
    },
    "kernelspec": {
      "name": "python3",
      "display_name": "Python 3"
    },
    "language_info": {
      "name": "python"
    }
  },
  "cells": [
    {
      "cell_type": "markdown",
      "metadata": {
        "id": "view-in-github",
        "colab_type": "text"
      },
      "source": [
        "<a href=\"https://colab.research.google.com/github/IAMDSVSSANGRAL/Python-tutorial/blob/main/OOP_Class_object.ipynb\" target=\"_parent\"><img src=\"https://colab.research.google.com/assets/colab-badge.svg\" alt=\"Open In Colab\"/></a>"
      ]
    },
    {
      "cell_type": "code",
      "execution_count": null,
      "metadata": {
        "id": "fmr83qJ_C6nk"
      },
      "outputs": [],
      "source": [
        "x = [1,2,3]"
      ]
    },
    {
      "cell_type": "code",
      "source": [
        "x.upper()"
      ],
      "metadata": {
        "colab": {
          "base_uri": "https://localhost:8080/",
          "height": 141
        },
        "id": "FrYqJX2wEALY",
        "outputId": "2b8e49eb-417d-4079-f007-a4ec028e84f9"
      },
      "execution_count": null,
      "outputs": [
        {
          "output_type": "error",
          "ename": "AttributeError",
          "evalue": "'list' object has no attribute 'upper'",
          "traceback": [
            "\u001b[0;31m---------------------------------------------------------------------------\u001b[0m",
            "\u001b[0;31mAttributeError\u001b[0m                            Traceback (most recent call last)",
            "\u001b[0;32m/tmp/ipython-input-1145191538.py\u001b[0m in \u001b[0;36m<cell line: 0>\u001b[0;34m()\u001b[0m\n\u001b[0;32m----> 1\u001b[0;31m \u001b[0mx\u001b[0m\u001b[0;34m.\u001b[0m\u001b[0mupper\u001b[0m\u001b[0;34m(\u001b[0m\u001b[0;34m)\u001b[0m\u001b[0;34m\u001b[0m\u001b[0;34m\u001b[0m\u001b[0m\n\u001b[0m",
            "\u001b[0;31mAttributeError\u001b[0m: 'list' object has no attribute 'upper'"
          ]
        }
      ]
    },
    {
      "cell_type": "code",
      "source": [
        "# why it is showing an error ?"
      ],
      "metadata": {
        "id": "rx2VI660ECDg"
      },
      "execution_count": null,
      "outputs": []
    },
    {
      "cell_type": "code",
      "source": [
        "s = \"hello\""
      ],
      "metadata": {
        "id": "DDFpufpUEF71"
      },
      "execution_count": null,
      "outputs": []
    },
    {
      "cell_type": "code",
      "source": [
        "s.append(x)"
      ],
      "metadata": {
        "colab": {
          "base_uri": "https://localhost:8080/",
          "height": 141
        },
        "id": "pwSwIn01EM2N",
        "outputId": "15e50b0b-a588-4fb4-fee2-969529ce2f1d"
      },
      "execution_count": null,
      "outputs": [
        {
          "output_type": "error",
          "ename": "AttributeError",
          "evalue": "'str' object has no attribute 'append'",
          "traceback": [
            "\u001b[0;31m---------------------------------------------------------------------------\u001b[0m",
            "\u001b[0;31mAttributeError\u001b[0m                            Traceback (most recent call last)",
            "\u001b[0;32m/tmp/ipython-input-4038967414.py\u001b[0m in \u001b[0;36m<cell line: 0>\u001b[0;34m()\u001b[0m\n\u001b[0;32m----> 1\u001b[0;31m \u001b[0ms\u001b[0m\u001b[0;34m.\u001b[0m\u001b[0mappend\u001b[0m\u001b[0;34m(\u001b[0m\u001b[0mx\u001b[0m\u001b[0;34m)\u001b[0m\u001b[0;34m\u001b[0m\u001b[0;34m\u001b[0m\u001b[0m\n\u001b[0m",
            "\u001b[0;31mAttributeError\u001b[0m: 'str' object has no attribute 'append'"
          ]
        }
      ]
    },
    {
      "cell_type": "code",
      "source": [
        "#again same error why ?"
      ],
      "metadata": {
        "id": "qfhno6fNEOnq"
      },
      "execution_count": null,
      "outputs": []
    },
    {
      "cell_type": "code",
      "source": [
        "# problem with procedural approach- made complex code which is not easy to manupilate if we are adding new feautres and all those thing."
      ],
      "metadata": {
        "id": "QioetEFaEN6T"
      },
      "execution_count": null,
      "outputs": []
    },
    {
      "cell_type": "code",
      "source": [
        "# the main power of oop is an programmer and create there own data types"
      ],
      "metadata": {
        "id": "2OxoU8xoFkPl"
      },
      "execution_count": null,
      "outputs": []
    },
    {
      "cell_type": "code",
      "source": [
        "# 6 principles of oop:\n",
        "#object\n",
        "#class\n",
        "#polymorphism\n",
        "#encapsulation\n",
        "#inheritance\n",
        "#abstraction"
      ],
      "metadata": {
        "id": "-KMN7XnhF6vs"
      },
      "execution_count": null,
      "outputs": []
    },
    {
      "cell_type": "code",
      "source": [
        "print(type(x))"
      ],
      "metadata": {
        "colab": {
          "base_uri": "https://localhost:8080/"
        },
        "id": "5LboQGOvGoU3",
        "outputId": "60dbe027-0006-452c-b12f-f923ef758114"
      },
      "execution_count": null,
      "outputs": [
        {
          "output_type": "stream",
          "name": "stdout",
          "text": [
            "<class 'list'>\n"
          ]
        }
      ]
    },
    {
      "cell_type": "code",
      "source": [
        "# class is a blueprint"
      ],
      "metadata": {
        "id": "PK3bwhH5HayO"
      },
      "execution_count": null,
      "outputs": []
    },
    {
      "cell_type": "code",
      "source": [
        "x.upper()"
      ],
      "metadata": {
        "colab": {
          "base_uri": "https://localhost:8080/",
          "height": 141
        },
        "id": "oRo7JaPRHDPN",
        "outputId": "32cb494f-c8e3-4b95-df51-8c9180e866bd"
      },
      "execution_count": null,
      "outputs": [
        {
          "output_type": "error",
          "ename": "AttributeError",
          "evalue": "'list' object has no attribute 'upper'",
          "traceback": [
            "\u001b[0;31m---------------------------------------------------------------------------\u001b[0m",
            "\u001b[0;31mAttributeError\u001b[0m                            Traceback (most recent call last)",
            "\u001b[0;32m/tmp/ipython-input-1145191538.py\u001b[0m in \u001b[0;36m<cell line: 0>\u001b[0;34m()\u001b[0m\n\u001b[0;32m----> 1\u001b[0;31m \u001b[0mx\u001b[0m\u001b[0;34m.\u001b[0m\u001b[0mupper\u001b[0m\u001b[0;34m(\u001b[0m\u001b[0;34m)\u001b[0m\u001b[0;34m\u001b[0m\u001b[0;34m\u001b[0m\u001b[0m\n\u001b[0m",
            "\u001b[0;31mAttributeError\u001b[0m: 'list' object has no attribute 'upper'"
          ]
        }
      ]
    },
    {
      "cell_type": "code",
      "source": [
        "# if you made any variable out of that class , it is an object\n",
        "# object is an instance of a class"
      ],
      "metadata": {
        "id": "HpKBhNNGHdKi"
      },
      "execution_count": null,
      "outputs": []
    },
    {
      "cell_type": "code",
      "source": [
        "#x is variable and stored the list , print the type of variable it is showing class list or class str etc why ?"
      ],
      "metadata": {
        "id": "THbsIZAbG4V9"
      },
      "execution_count": null,
      "outputs": []
    },
    {
      "cell_type": "code",
      "source": [
        "# class - data or property and functions or behviour."
      ],
      "metadata": {
        "id": "OAHrxAzDIE8S"
      },
      "execution_count": null,
      "outputs": []
    },
    {
      "cell_type": "code",
      "source": [
        "# syntax to create an object\n",
        "#objectname = classname()"
      ],
      "metadata": {
        "id": "VY0osNP1IOfC"
      },
      "execution_count": null,
      "outputs": []
    },
    {
      "cell_type": "code",
      "source": [
        "x = list()\n",
        "y = str()\n",
        "z = set()"
      ],
      "metadata": {
        "id": "rBdjVAOdI49_"
      },
      "execution_count": null,
      "outputs": []
    },
    {
      "cell_type": "code",
      "source": [
        "print(type(z))"
      ],
      "metadata": {
        "colab": {
          "base_uri": "https://localhost:8080/"
        },
        "id": "BCOvxm46I8vB",
        "outputId": "e9fbaaab-d5aa-48d2-ad55-afc359615ca1"
      },
      "execution_count": null,
      "outputs": [
        {
          "output_type": "stream",
          "name": "stdout",
          "text": [
            "<class 'set'>\n"
          ]
        }
      ]
    },
    {
      "cell_type": "code",
      "source": [
        "class Atm: #use pascal case eg: HelloWorld\n",
        "\n",
        "    #constructor a special function -> special function -\n",
        "    def __init__(self):\n",
        "      self.pin = \"\"\n",
        "      self.balance = 0\n",
        "      print('mai to execute ho gaya')"
      ],
      "metadata": {
        "id": "VlRLYDgiI9xD"
      },
      "execution_count": null,
      "outputs": []
    },
    {
      "cell_type": "code",
      "source": [
        "x = Atm()"
      ],
      "metadata": {
        "colab": {
          "base_uri": "https://localhost:8080/"
        },
        "id": "3agtoenqKcA5",
        "outputId": "d46c577d-d23e-4c99-a1af-e8beb4dd7384"
      },
      "execution_count": null,
      "outputs": [
        {
          "output_type": "stream",
          "name": "stdout",
          "text": [
            "mai to execute ho gaya\n"
          ]
        }
      ]
    },
    {
      "cell_type": "code",
      "source": [
        "x.pin"
      ],
      "metadata": {
        "colab": {
          "base_uri": "https://localhost:8080/",
          "height": 36
        },
        "id": "odwqrdzaKfNh",
        "outputId": "b8fa3b90-7fd7-49ec-9064-a23b48c2d87e"
      },
      "execution_count": null,
      "outputs": [
        {
          "output_type": "execute_result",
          "data": {
            "text/plain": [
              "''"
            ],
            "application/vnd.google.colaboratory.intrinsic+json": {
              "type": "string"
            }
          },
          "metadata": {},
          "execution_count": 32
        }
      ]
    },
    {
      "cell_type": "code",
      "source": [
        "x.balance"
      ],
      "metadata": {
        "colab": {
          "base_uri": "https://localhost:8080/"
        },
        "id": "Yge_IH16KgDd",
        "outputId": "44120995-1fac-4997-d0d7-05c5f6cad498"
      },
      "execution_count": null,
      "outputs": [
        {
          "output_type": "execute_result",
          "data": {
            "text/plain": [
              "0"
            ]
          },
          "metadata": {},
          "execution_count": 33
        }
      ]
    },
    {
      "cell_type": "code",
      "source": [
        "print(type(x))"
      ],
      "metadata": {
        "colab": {
          "base_uri": "https://localhost:8080/"
        },
        "id": "BhKgAmskKhUf",
        "outputId": "3f5bbe86-e8fb-4b82-dc59-4365c584772a"
      },
      "execution_count": null,
      "outputs": [
        {
          "output_type": "stream",
          "name": "stdout",
          "text": [
            "<class '__main__.Atm'>\n"
          ]
        }
      ]
    },
    {
      "cell_type": "code",
      "source": [
        "# types of classes - builtin and user defined classes"
      ],
      "metadata": {
        "id": "fb2U8mZsKuiO"
      },
      "execution_count": null,
      "outputs": []
    },
    {
      "cell_type": "code",
      "source": [
        "class Atm():\n",
        "\n",
        "  def __init__(self):\n",
        "    self.pin = ''\n",
        "    self.balance = 0\n",
        "    self.menu()\n",
        "\n",
        "  def menu(self):\n",
        "    user_input =input(\"\"\"\n",
        "    Hi how can i help you ?\n",
        "\n",
        "    1. press 1 to create pin\n",
        "    2. press 2 to change pin\n",
        "    3. press 3 to check balance\n",
        "    4. press 4 to withdraw\n",
        "    5. anything else to exit\n",
        "    \"\"\")\n",
        "\n",
        "    if user_input == '1':\n",
        "      #create pin\n",
        "      self.create_pin()\n",
        "    elif user_input == '2':\n",
        "      self.change_pin()\n",
        "      pass\n",
        "    elif user_input == '3':\n",
        "      self.check_balance()\n",
        "      pass\n",
        "    elif user_input == '4':\n",
        "      self.withdraw()\n",
        "      pass\n",
        "    else:\n",
        "      exit()\n",
        "\n",
        "  def create_pin(self):\n",
        "    user_pin = input('enter your pin')\n",
        "    self.pin = user_pin\n",
        "\n",
        "    user_balance = int(input('enter your balance'))\n",
        "    self.balance = user_balance\n",
        "\n",
        "    print(\"pin created successfully\")\n",
        "    self.menu()\n",
        "\n",
        "\n",
        "  def change_pin(self):\n",
        "    old_pin = input('enter your existing pin')\n",
        "    if old_pin == self.pin:\n",
        "      new_pin = input(\"enter your new pin\")\n",
        "      self.pin = new_pin\n",
        "      print(\"pin change successfully\")\n",
        "      self.menu()\n",
        "\n",
        "    else :\n",
        "      print(\"incorrect pin switched to menu again\")\n",
        "      self.menu()\n",
        "\n",
        "  def check_balance(self):\n",
        "     user_pin = input(\"enter your pin\")\n",
        "     if user_pin == self.pin:\n",
        "      print('your balance is',self.balance)\n",
        "     else:\n",
        "      self.menu()\n",
        "\n",
        "  def withdraw(self):\n",
        "    user_pin = input(\"enter your pin\")\n",
        "    if user_pin == self.pin:\n",
        "      withdraw_amt= int(input('how much money you want to spend'))\n",
        "      if withdraw_amt <= self.balance:\n",
        "        self.balance = self.balance - withdraw_amt\n",
        "        self.menu()\n",
        "      else:\n",
        "        print('kuch to sharam karlo')\n",
        "        self.withdraw()\n",
        "    else:\n",
        "      print('pin galat hai bhai')\n",
        "      self.menu()"
      ],
      "metadata": {
        "id": "TOMaSoa2K---"
      },
      "execution_count": null,
      "outputs": []
    },
    {
      "cell_type": "code",
      "source": [
        "customer_2 = Atm()"
      ],
      "metadata": {
        "colab": {
          "base_uri": "https://localhost:8080/"
        },
        "id": "OEunN_6yMfrv",
        "outputId": "a11ef44f-b65f-4f46-b282-46556547ecf4"
      },
      "execution_count": null,
      "outputs": [
        {
          "output_type": "stream",
          "name": "stdout",
          "text": [
            "\n",
            "    Hi how can i help you ?\n",
            "\n",
            "    1. press 1 to create pin\n",
            "    2. press 2 to change pin\n",
            "    3. press 3 to check balance \n",
            "    4. press 4 to withdraw\n",
            "    5. anything else to exit\n",
            "    1\n",
            "enter your pin1234\n",
            "enter your balance10000\n",
            "pin created successfully\n",
            "\n",
            "    Hi how can i help you ?\n",
            "\n",
            "    1. press 1 to create pin\n",
            "    2. press 2 to change pin\n",
            "    3. press 3 to check balance \n",
            "    4. press 4 to withdraw\n",
            "    5. anything else to exit\n",
            "    4\n",
            "enter your pin1234\n",
            "how much money you want to spend11000\n",
            "kuch to sharam karlo\n",
            "enter your pin1234\n",
            "how much money you want to spend2000\n",
            "\n",
            "    Hi how can i help you ?\n",
            "\n",
            "    1. press 1 to create pin\n",
            "    2. press 2 to change pin\n",
            "    3. press 3 to check balance \n",
            "    4. press 4 to withdraw\n",
            "    5. anything else to exit\n",
            "    3\n",
            "enter your pin1234\n",
            "your balance is 8000\n"
          ]
        }
      ]
    },
    {
      "cell_type": "code",
      "source": [
        "\n",
        "customer_2.balance"
      ],
      "metadata": {
        "colab": {
          "base_uri": "https://localhost:8080/"
        },
        "id": "tIu_n5gXMt10",
        "outputId": "fbd42a7c-ffce-40f2-ea86-2588da794deb"
      },
      "execution_count": null,
      "outputs": [
        {
          "output_type": "execute_result",
          "data": {
            "text/plain": [
              "8000"
            ]
          },
          "metadata": {},
          "execution_count": 7
        }
      ]
    },
    {
      "cell_type": "code",
      "source": [
        "customer_2.pin"
      ],
      "metadata": {
        "colab": {
          "base_uri": "https://localhost:8080/",
          "height": 36
        },
        "id": "_IdUoBhAN505",
        "outputId": "1f560701-71ad-41d4-f61c-87e8303969f8"
      },
      "execution_count": null,
      "outputs": [
        {
          "output_type": "execute_result",
          "data": {
            "text/plain": [
              "'1234'"
            ],
            "application/vnd.google.colaboratory.intrinsic+json": {
              "type": "string"
            }
          },
          "metadata": {},
          "execution_count": 8
        }
      ]
    },
    {
      "cell_type": "code",
      "source": [
        "# class diagrams\n",
        "#  + public\n",
        "#  - private"
      ],
      "metadata": {
        "id": "iOMhJISmN7gl"
      },
      "execution_count": null,
      "outputs": []
    },
    {
      "cell_type": "markdown",
      "source": [
        "![class-diagram-example.png](data:image/png;base64,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)"
      ],
      "metadata": {
        "id": "BBhoLd1m0WKv"
      }
    },
    {
      "cell_type": "markdown",
      "source": [
        "# Magic method & Dunder method"
      ],
      "metadata": {
        "id": "Hkr-D4R40UhG"
      }
    },
    {
      "cell_type": "markdown",
      "source": [
        "#discussion about cunstructer"
      ],
      "metadata": {
        "id": "P5fsXga31S_F"
      }
    },
    {
      "cell_type": "code",
      "source": [
        "class Temp:\n",
        "\n",
        "  def __init__(self):\n",
        "    print(\"hello\")\n"
      ],
      "metadata": {
        "id": "cMkIpwT90l3U"
      },
      "execution_count": 1,
      "outputs": []
    },
    {
      "cell_type": "code",
      "source": [
        "obj = Temp()"
      ],
      "metadata": {
        "colab": {
          "base_uri": "https://localhost:8080/"
        },
        "id": "2ibzRSpI1c0R",
        "outputId": "e3b055b3-15fc-4fc7-f153-a102df765e63"
      },
      "execution_count": 2,
      "outputs": [
        {
          "output_type": "stream",
          "name": "stdout",
          "text": [
            "hello\n"
          ]
        }
      ]
    },
    {
      "cell_type": "code",
      "source": [
        "# what is constructor\n",
        "# benefits of constructor - control of function, configuration code to connect database, internet etc"
      ],
      "metadata": {
        "id": "u_DhRHW21enX"
      },
      "execution_count": 5,
      "outputs": []
    },
    {
      "cell_type": "markdown",
      "source": [
        "## discussion on self (mai khudh)"
      ],
      "metadata": {
        "id": "B2OhBKGU3A6m"
      }
    },
    {
      "cell_type": "code",
      "source": [
        "# Golden rules of oops programing\n",
        "# CLASS KE ANDAR JO BHI CHIZEY HAI USKO SIRF US CLASS KA OBJECT HI ACCESS KAR SAKTA\n",
        "# EK METHOD DUSRE METHOD KO CALL NAHI KAR SAKTA"
      ],
      "metadata": {
        "id": "ScyAJG-z1kHt"
      },
      "execution_count": null,
      "outputs": []
    },
    {
      "cell_type": "code",
      "source": [
        "class vishal:\n",
        "  def __init__(self):\n",
        "    print(id(self))"
      ],
      "metadata": {
        "id": "0wYTV_g_415k"
      },
      "execution_count": 6,
      "outputs": []
    },
    {
      "cell_type": "code",
      "source": [
        "obj = vishal()"
      ],
      "metadata": {
        "colab": {
          "base_uri": "https://localhost:8080/"
        },
        "id": "bSVdWERj4-Md",
        "outputId": "44dc53e2-a476-4c71-cd9e-b36f86851a3f"
      },
      "execution_count": 7,
      "outputs": [
        {
          "output_type": "stream",
          "name": "stdout",
          "text": [
            "132951488567952\n"
          ]
        }
      ]
    },
    {
      "cell_type": "code",
      "source": [
        "print(id(obj))"
      ],
      "metadata": {
        "colab": {
          "base_uri": "https://localhost:8080/"
        },
        "id": "azhzY-qm5GvT",
        "outputId": "3fba34bc-dba1-489d-8073-cdea371a9968"
      },
      "execution_count": 8,
      "outputs": [
        {
          "output_type": "stream",
          "name": "stdout",
          "text": [
            "132951488567952\n"
          ]
        }
      ]
    },
    {
      "cell_type": "code",
      "source": [
        "# it means self is nothing it is just an object of the class"
      ],
      "metadata": {
        "id": "-tTc8oUz5IwB"
      },
      "execution_count": 10,
      "outputs": []
    },
    {
      "cell_type": "code",
      "source": [
        "# gangadhar hi shaktiman hai"
      ],
      "metadata": {
        "id": "6gIuBt4T5R3v"
      },
      "execution_count": 11,
      "outputs": []
    },
    {
      "cell_type": "markdown",
      "source": [
        "# Fraction class - thank you nitish sir."
      ],
      "metadata": {
        "id": "oo0jN0YE7yrP"
      }
    },
    {
      "cell_type": "code",
      "source": [
        "class Fraction():\n",
        "\n",
        "  #parameterized constructor - constructor requires input\n",
        "  def __init__(self,x,y):\n",
        "    self.num = x\n",
        "    self.denom = y\n",
        "\n",
        "  def __str__(self):\n",
        "    return '{}/{}'.format(self.num,self.denom)\n",
        "\n",
        "  def __add__(self,other):\n",
        "    new_num = self.num*other.denom +other.num*self.denom\n",
        "    new_denom = self.denom*other.denom\n",
        "    return '{}/{}'.format(new_num,new_denom)\n",
        "\n",
        "  def __sub__(self,other):\n",
        "    pass\n",
        "\n",
        "  def __mul__(self,other):\n",
        "    pass\n",
        "\n",
        "  def __truediv__(self,other):\n",
        "    pass\n",
        "  def convert_to_decimal(self):\n",
        "    return self.num/self.denom\n",
        "\n"
      ],
      "metadata": {
        "id": "OVJax0hx6SW1"
      },
      "execution_count": 60,
      "outputs": []
    },
    {
      "cell_type": "code",
      "source": [
        "fr1 = Fraction(1,3)"
      ],
      "metadata": {
        "id": "Ohh5xZdr80Ec"
      },
      "execution_count": 61,
      "outputs": []
    },
    {
      "cell_type": "code",
      "source": [
        "fr2 = Fraction(2,3)"
      ],
      "metadata": {
        "id": "8drfjlb683F3"
      },
      "execution_count": 62,
      "outputs": []
    },
    {
      "cell_type": "code",
      "source": [
        "fr2.num"
      ],
      "metadata": {
        "colab": {
          "base_uri": "https://localhost:8080/"
        },
        "id": "2e_Vv3pN86Ob",
        "outputId": "f1f4b532-3da6-40ec-cbc3-81d18022c20a"
      },
      "execution_count": 63,
      "outputs": [
        {
          "output_type": "execute_result",
          "data": {
            "text/plain": [
              "2"
            ]
          },
          "metadata": {},
          "execution_count": 63
        }
      ]
    },
    {
      "cell_type": "code",
      "source": [
        "fr2.denom"
      ],
      "metadata": {
        "colab": {
          "base_uri": "https://localhost:8080/"
        },
        "id": "D0joocsf88Sj",
        "outputId": "6f4757e0-9a07-4e2b-fec4-546d03df6a19"
      },
      "execution_count": 64,
      "outputs": [
        {
          "output_type": "execute_result",
          "data": {
            "text/plain": [
              "3"
            ]
          },
          "metadata": {},
          "execution_count": 64
        }
      ]
    },
    {
      "cell_type": "code",
      "source": [
        "print(fr2) # 2/3"
      ],
      "metadata": {
        "colab": {
          "base_uri": "https://localhost:8080/"
        },
        "id": "hAzVGLFD9ACS",
        "outputId": "efbd93e1-3865-4dc8-8c4f-fc70c40b9c6a"
      },
      "execution_count": 65,
      "outputs": [
        {
          "output_type": "stream",
          "name": "stdout",
          "text": [
            "2/3\n"
          ]
        }
      ]
    },
    {
      "cell_type": "code",
      "source": [
        "fr1 + fr2"
      ],
      "metadata": {
        "colab": {
          "base_uri": "https://localhost:8080/",
          "height": 36
        },
        "id": "D2_DJx109GHk",
        "outputId": "a26f56b7-f0c0-4432-9440-4cc2df24693b"
      },
      "execution_count": 66,
      "outputs": [
        {
          "output_type": "execute_result",
          "data": {
            "text/plain": [
              "'9/9'"
            ],
            "application/vnd.google.colaboratory.intrinsic+json": {
              "type": "string"
            }
          },
          "metadata": {},
          "execution_count": 66
        }
      ]
    },
    {
      "cell_type": "code",
      "source": [
        "fr2.convert_to_decimal()"
      ],
      "metadata": {
        "colab": {
          "base_uri": "https://localhost:8080/"
        },
        "id": "VAmX4nWQ-okS",
        "outputId": "682bc0b0-dcd4-4bb4-f2e0-ebec4e21935b"
      },
      "execution_count": 67,
      "outputs": [
        {
          "output_type": "execute_result",
          "data": {
            "text/plain": [
              "0.6666666666666666"
            ]
          },
          "metadata": {},
          "execution_count": 67
        }
      ]
    },
    {
      "cell_type": "code",
      "source": [],
      "metadata": {
        "id": "y9bnJkuOA00T"
      },
      "execution_count": null,
      "outputs": []
    }
  ]
}